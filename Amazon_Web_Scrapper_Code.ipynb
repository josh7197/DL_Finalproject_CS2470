{
 "cells": [
  {
   "cell_type": "code",
   "execution_count": 1,
   "id": "eebd9bd3",
   "metadata": {},
   "outputs": [
    {
     "ename": "ModuleNotFoundError",
     "evalue": "No module named 'selenium'",
     "output_type": "error",
     "traceback": [
      "\u001b[0;31m---------------------------------------------------------------------------\u001b[0m",
      "\u001b[0;31mModuleNotFoundError\u001b[0m                       Traceback (most recent call last)",
      "\u001b[0;32m<ipython-input-1-95bd88330100>\u001b[0m in \u001b[0;36m<module>\u001b[0;34m\u001b[0m\n\u001b[0;32m----> 1\u001b[0;31m \u001b[0;32mfrom\u001b[0m \u001b[0mselenium\u001b[0m \u001b[0;32mimport\u001b[0m \u001b[0mwebdriver\u001b[0m\u001b[0;34m\u001b[0m\u001b[0;34m\u001b[0m\u001b[0m\n\u001b[0m\u001b[1;32m      2\u001b[0m \u001b[0;32mfrom\u001b[0m \u001b[0mselenium\u001b[0m\u001b[0;34m.\u001b[0m\u001b[0mwebdriver\u001b[0m\u001b[0;34m.\u001b[0m\u001b[0mchrome\u001b[0m\u001b[0;34m.\u001b[0m\u001b[0mservice\u001b[0m \u001b[0;32mimport\u001b[0m \u001b[0mService\u001b[0m\u001b[0;34m\u001b[0m\u001b[0;34m\u001b[0m\u001b[0m\n\u001b[1;32m      3\u001b[0m \u001b[0;32mfrom\u001b[0m \u001b[0mwebdriver_manager\u001b[0m\u001b[0;34m.\u001b[0m\u001b[0mchrome\u001b[0m \u001b[0;32mimport\u001b[0m \u001b[0mChromeDriverManager\u001b[0m\u001b[0;34m\u001b[0m\u001b[0;34m\u001b[0m\u001b[0m\n\u001b[1;32m      4\u001b[0m \u001b[0;32mfrom\u001b[0m \u001b[0mselenium\u001b[0m\u001b[0;34m.\u001b[0m\u001b[0mwebdriver\u001b[0m\u001b[0;34m.\u001b[0m\u001b[0mcommon\u001b[0m\u001b[0;34m.\u001b[0m\u001b[0mby\u001b[0m \u001b[0;32mimport\u001b[0m \u001b[0mBy\u001b[0m\u001b[0;34m\u001b[0m\u001b[0;34m\u001b[0m\u001b[0m\n\u001b[1;32m      5\u001b[0m \u001b[0;32mfrom\u001b[0m \u001b[0mselenium\u001b[0m\u001b[0;34m.\u001b[0m\u001b[0mwebdriver\u001b[0m\u001b[0;34m.\u001b[0m\u001b[0mcommon\u001b[0m\u001b[0;34m.\u001b[0m\u001b[0mkeys\u001b[0m \u001b[0;32mimport\u001b[0m \u001b[0mKeys\u001b[0m\u001b[0;34m\u001b[0m\u001b[0;34m\u001b[0m\u001b[0m\n",
      "\u001b[0;31mModuleNotFoundError\u001b[0m: No module named 'selenium'"
     ]
    }
   ],
   "source": [
    "from selenium import webdriver\n",
    "from selenium.webdriver.chrome.service import Service\n",
    "from webdriver_manager.chrome import ChromeDriverManager\n",
    "from selenium.webdriver.common.by import By\n",
    "from selenium.webdriver.common.keys import Keys\n",
    "import time"
   ]
  },
  {
   "cell_type": "code",
   "execution_count": null,
   "id": "7f0aeca0",
   "metadata": {},
   "outputs": [],
   "source": [
    "path=‘/Users/loganheft/Documents/chromedriver’\n",
    "driver.get(‘https://www.amazon.com’)\n",
    "book_info=[]\n",
    "book_list=[‘Fast food nation’,‘Of Mice and Men’]"
   ]
  },
  {
   "cell_type": "code",
   "execution_count": null,
   "id": "ec12d3e8",
   "metadata": {},
   "outputs": [],
   "source": [
    "def get_data(book_list):\n",
    "    for i in book_list:\n",
    "        search=driver.find_element(By.ID,‘twotabsearchtextbox’)\n",
    "        search.click()\n",
    "        search.send_keys(i)\n",
    "        magnify_glass=driver.find_element(By.ID,‘nav-search-submit-button’)\n",
    "        magnify_glass.click()\n",
    "        picture=driver.find_element_by_class_name(‘s-image’)\n",
    "        picture.click()\n",
    "        #Retrieves authro information but needs cleaning\n",
    "        author=driver.find_element(By.ID,‘bylineInfo’)\n",
    "        author=author.text\n",
    "        author.strip()\n",
    "        read_more=driver.find_element(By.XPATH,‘/html/body/div[1]/div[2]/div[5]/div[1]/div[7]/div[31]/div/div[2]/a/span’)\n",
    "        read_more.click()\n",
    "        #Retrieves description\n",
    "        description=driver.find_element(By.ID,“bookDescription_feature_div”)\n",
    "        description=description.text\n",
    "        description.strip()\n",
    "        time.sleep(2)\n",
    "        title_list.append(i)\n",
    "        author_list.append(author)\n",
    "        description_list.append(description)\n",
    "        driver.get(‘https://www.amazon.com’)"
   ]
  }
 ],
 "metadata": {
  "kernelspec": {
   "display_name": "Python 3",
   "language": "python",
   "name": "python3"
  },
  "language_info": {
   "codemirror_mode": {
    "name": "ipython",
    "version": 3
   },
   "file_extension": ".py",
   "mimetype": "text/x-python",
   "name": "python",
   "nbconvert_exporter": "python",
   "pygments_lexer": "ipython3",
   "version": "3.8.8"
  }
 },
 "nbformat": 4,
 "nbformat_minor": 5
}
