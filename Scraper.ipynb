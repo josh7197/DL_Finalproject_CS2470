{
 "cells": [
  {
   "cell_type": "markdown",
   "id": "007775ed",
   "metadata": {},
   "source": [
    "# Goodreads Web Scraper"
   ]
  },
  {
   "cell_type": "code",
   "execution_count": null,
   "id": "27339bfd",
   "metadata": {},
   "outputs": [],
   "source": [
    "from bs4 import BeautifulSoup as bs\n",
    "import requests\n",
    "import urllib.request\n",
    "import Goodreads_helper_functions as good\n",
    "import json"
   ]
  },
  {
   "cell_type": "code",
   "execution_count": null,
   "id": "8e8bd765",
   "metadata": {},
   "outputs": [],
   "source": [
    "def get_book_urls(url):\n",
    "\n",
    "    urls = []\n",
    "\n",
    "    for i in range(1,20):\n",
    "        new_url = str(url) + f'?page={i}'\n",
    "        open_url = urllib.request.urlopen(new_url)\n",
    "        soup = bs(open_url, 'html.parser')\n",
    "        soups = soup.find_all('div', {\"data-resource-type\":\"Book\"})\n",
    "\n",
    "        for i in range(len(soups)):\n",
    "            urls.append('https://goodreads.com' + soups[i].a['href'])\n",
    "\n",
    "    return urls"
   ]
  },
  {
   "cell_type": "code",
   "execution_count": null,
   "id": "6ef7b516",
   "metadata": {},
   "outputs": [],
   "source": [
    "url17='https://www.goodreads.com/list/show/107026.Best_Books_of_2017'\n",
    "url18='https://www.goodreads.com/list/show/119307.Best_Books_of_2018'\n",
    "urls2018 = get_book_urls(url18)\n",
    "urls2017 = get_book_urls(url17)"
   ]
  },
  {
   "cell_type": "code",
   "execution_count": null,
   "id": "47b5c962",
   "metadata": {},
   "outputs": [],
   "source": [
    "def get_book_info(urls):\n",
    "\n",
    "    books = []\n",
    "    # iterate over the list of urls\n",
    "    for url in urls:\n",
    "        page = requests.get(url)\n",
    "        soup = bs(page.content, 'html.parser')\n",
    "    \n",
    "        book_dict = {}\n",
    "        book_dict['title'] = good.get_title(soup)\n",
    "        book_dict['ISBN'] = good.get_ISBN(soup)\n",
    "        book_dict['author'] = good.get_author(soup)\n",
    "        book_dict['series'] = good.get_series(soup)\n",
    "        book_dict['genre'] = good.get_genre(soup)\n",
    "        book_dict['rating'] = good.get_rating(soup)\n",
    "        book_dict['publish_date'] = good.get_publish_date(soup)\n",
    "        book_dict['publish_company'] = good.get_publishing_company(soup)\n",
    "        book_dict['number_of_pages'] = good.get_pages(soup)\n",
    "        book_dict['format'] = good.get_format(soup)\n",
    "    \n",
    "        books.append(book_dict)\n",
    "    return books"
   ]
  },
  {
   "cell_type": "code",
   "execution_count": null,
   "id": "8dd6cfc0",
   "metadata": {},
   "outputs": [],
   "source": [
    "book_dict_2018 = get_book_info(urls2018)\n",
    "book_dict_2017 = get_book_info(urls2017)"
   ]
  },
  {
   "cell_type": "code",
   "execution_count": null,
   "id": "31522f85",
   "metadata": {},
   "outputs": [],
   "source": [
    "with open('Goodreads_books_2017.json','w') as book_file:\n",
    "    json.dump(book_dict_2017, book_file)\n",
    "with open('Goodreads_books_2018.json','w') as book_file:\n",
    "    json.dump(book_dict_2018, book_file)"
   ]
  },
  {
   "cell_type": "markdown",
   "id": "548c8d5f",
   "metadata": {},
   "source": [
    "# NYT Web Scraper"
   ]
  },
  {
   "cell_type": "code",
   "execution_count": null,
   "id": "b56253cf",
   "metadata": {},
   "outputs": [],
   "source": [
    "import requests\n",
    "import time\n",
    "import config\n",
    "import json\n",
    "from bs4 import BeautifulSoup as bs\n",
    "from selenium import webdriver\n",
    "from selenium.webdriver.common.keys import Keys\n",
    "import Goodreads_helper_functions as good\n"
   ]
  },
  {
   "cell_type": "code",
   "execution_count": null,
   "id": "0e714373",
   "metadata": {},
   "outputs": [],
   "source": [
    "best_sellers = []\n",
    "\n",
    "def get_books():\n",
    "    \"\"\"\n",
    "    get_books():\n",
    "    Function returns a list of New York Times bestsellers\n",
    "    Params:\n",
    "        None\n",
    "    Returns:\n",
    "        List of dictionaries describing bestselling books\n",
    "    \"\"\"\n",
    "    # offset the pages by multiples of 20\n",
    "    for i in range(0, 32326, 20):\n",
    "        params = {'api-key': config.NYT_api_key,\n",
    "                 'offset': i}\n",
    "        url = 'https://api.nytimes.com/svc/books/v3/lists/best-sellers/history.json'\n",
    "        response = requests.get(url, params = params)\n",
    "        data = response.json()\n",
    "        \n",
    "        best_sellers_dict = {}\n",
    "       \n",
    "        for book in data['results']:\n",
    "            try:\n",
    "\n",
    "                best_sellers_dict['title'] = book['title']\n",
    "                best_sellers_dict['author'] = book['author']\n",
    "                best_sellers_dict['publisher'] = book['publisher']\n",
    "                best_sellers_dict['ISBN'] = book['isbns']\n",
    "                best_sellers_dict['publish_date'] = book['ranks_history'][0]['published_date']\n",
    "\n",
    "                # add the dictionary to master list\n",
    "\n",
    "                best_sellers.append(best_sellers_dict)\n",
    "\n",
    "            except IndexError:\n",
    "                continue\n",
    "\n",
    "        # print what page we are on for auditing purposes\n",
    "        print(i)\n",
    "        \n",
    "        # wait so we don't hit the API's per minute call limit\n",
    "        time.sleep(6)\n",
    "            \n",
    "    return True"
   ]
  },
  {
   "cell_type": "code",
   "execution_count": null,
   "id": "77832d9b",
   "metadata": {},
   "outputs": [],
   "source": [
    "get_books"
   ]
  },
  {
   "cell_type": "code",
   "execution_count": null,
   "id": "8bc29162",
   "metadata": {},
   "outputs": [],
   "source": [
    "def get_NYT_ISBNS(data):\n",
    "    \"\"\"\n",
    "    get_NYT_ISBNS():\n",
    "    Function returns a list of ISBNs from the list of NYT bestsellers between 2017 and the present\n",
    "    Params:\n",
    "        data: list of dictionaries describing each book from the NYT API call\n",
    "    Returns:\n",
    "        List of ISBNs for each NYT bestseller\n",
    "    \"\"\"\n",
    "    ISBNs = []\n",
    "    years = ['2019','2018','2017']\n",
    "    for book in data:\n",
    "        # only append the ISBN if the book was on a NYT bestseller list between 2017 and 2019\n",
    "        if any(x in book['publish_date'] for x in years):\n",
    "            try: \n",
    "                ISBN = book['ISBN'][0]['isbn13']\n",
    "                ISBNs.append(ISBN)\n",
    "            except IndexError:\n",
    "                continue\n",
    "    return ISBNs\n",
    "\n",
    "ISBNs = get_NYT_ISBNS(best_sellers)\n"
   ]
  },
  {
   "cell_type": "code",
   "execution_count": null,
   "id": "9a1b9b8a",
   "metadata": {},
   "outputs": [],
   "source": [
    "driver_options = webdriver.chrome.options.Options()\n",
    "prefs = {\"profile.managed_default_content_settings.images\": 2}\n",
    "driver_options.add_experimental_option(\"prefs\", prefs)\n",
    "driver = webdriver.Chrome(options=driver_options)"
   ]
  },
  {
   "cell_type": "code",
   "execution_count": null,
   "id": "19448058",
   "metadata": {},
   "outputs": [],
   "source": [
    "list_of_NYT_books = []\n",
    "\n",
    "def get_NYTbook_info(ISBNs):\n",
    "    \"\"\"\n",
    "    get_NYTbook_info():\n",
    "    Function returns a list of dictionaries with features describing each NYT bestseller\n",
    "    Params:\n",
    "        ISBNs: list of ISBNs for each NYT bestseller\n",
    "    Returns:\n",
    "        List of dictionaries describing bestselling books\n",
    "    \"\"\"\n",
    "\n",
    "    for ISBN in ISBNs:\n",
    "        \n",
    "        # log into goodreads website \n",
    "        driver.get('https://www.goodreads.com/')\n",
    "        \n",
    "        # wait for website to load\n",
    "        time.sleep(2)\n",
    "        driver.find_element_by_id('userSignInFormEmail').send_keys(config.email_address)\n",
    "        driver.find_element_by_id('user_password').send_keys(config.pw, Keys.ENTER)\n",
    "        time.sleep(2)\n",
    "        \n",
    "        try:\n",
    "            # get the webpage for each ISBN \n",
    "            driver.find_element_by_xpath('/html/body/div[4]/main/div[1]/section[1]/div/div/footer/div[1]/div/form/input').send_keys(ISBN,Keys.ENTER)\n",
    "            time.sleep(2) \n",
    "\n",
    "            # grab the current url to scrape\n",
    "            url = driver.current_url\n",
    "            \n",
    "        # Beautiful soup to scrape each book page for features\n",
    "            html_page = requests.get(url)\n",
    "            soup = bs(html_page.content, 'html.parser')\n",
    "\n",
    "            book_dict = {}\n",
    "\n",
    "            book_dict['title'] = good.get_title(soup)\n",
    "            book_dict['ISBN'] = ISBN\n",
    "            book_dict['author'] = good.get_author(soup)\n",
    "            book_dict['series'] = good.get_series(soup)\n",
    "            book_dict['genre'] = good.get_genre(soup)\n",
    "            book_dict['rating'] = good.get_rating(soup)\n",
    "            book_dict['publish_date'] = good.get_publish_date(soup)\n",
    "            book_dict['publish_company'] = good.get_publishing_company(soup)\n",
    "            book_dict['number_of_pages'] = good.get_pages(soup)\n",
    "            book_dict['format'] = good.get_format(soup)\n",
    "\n",
    "            list_of_NYT_books.append(book_dict)\n",
    "\n",
    "        except AttributeError:\n",
    "            continue\n",
    "        \n",
    "        time.sleep(2)\n",
    "        \n",
    "    return True"
   ]
  },
  {
   "cell_type": "code",
   "execution_count": null,
   "id": "439986a0",
   "metadata": {},
   "outputs": [],
   "source": [
    "get_NYTbook_info(ISBNs)"
   ]
  }
 ],
 "metadata": {
  "kernelspec": {
   "display_name": "Python [conda env:DL]",
   "language": "python",
   "name": "conda-env-DL-py"
  },
  "language_info": {
   "codemirror_mode": {
    "name": "ipython",
    "version": 3
   },
   "file_extension": ".py",
   "mimetype": "text/x-python",
   "name": "python",
   "nbconvert_exporter": "python",
   "pygments_lexer": "ipython3",
   "version": "3.9.10"
  }
 },
 "nbformat": 4,
 "nbformat_minor": 5
}
